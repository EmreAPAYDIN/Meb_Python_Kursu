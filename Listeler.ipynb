{
  "nbformat": 4,
  "nbformat_minor": 0,
  "metadata": {
    "colab": {
      "name": "Listeler.ipynb",
      "provenance": [],
      "collapsed_sections": [],
      "include_colab_link": true
    },
    "kernelspec": {
      "name": "python3",
      "display_name": "Python 3"
    }
  },
  "cells": [
    {
      "cell_type": "markdown",
      "metadata": {
        "id": "view-in-github",
        "colab_type": "text"
      },
      "source": [
        "<a href=\"https://colab.research.google.com/github/EmreAPAYDIN/Meb_Python_Kursu/blob/master/Listeler.ipynb\" target=\"_parent\"><img src=\"https://colab.research.google.com/assets/colab-badge.svg\" alt=\"Open In Colab\"/></a>"
      ]
    },
    {
      "cell_type": "code",
      "metadata": {
        "id": "c0pDO5ekk8kD",
        "colab_type": "code",
        "colab": {
          "base_uri": "https://localhost:8080/",
          "height": 34
        },
        "outputId": "615b4879-20e5-4c4e-b51b-9c9d1bdc754c"
      },
      "source": [
        "sehirler=[\"ankara\",\"giresun\",\"istanbul\"]\n",
        "liste=[1,2,34,\"elma\",\"armut\",sehirler]\n",
        "print(liste)"
      ],
      "execution_count": 3,
      "outputs": [
        {
          "output_type": "stream",
          "text": [
            "[1, 2, 34, 'elma', 'armut', ['ankara', 'giresun', 'istanbul']]\n"
          ],
          "name": "stdout"
        }
      ]
    },
    {
      "cell_type": "code",
      "metadata": {
        "id": "-f_W25IXXt0J",
        "colab_type": "code",
        "colab": {
          "base_uri": "https://localhost:8080/",
          "height": 34
        },
        "outputId": "57762591-e95c-4da0-cbfc-f9413ecfbcd2"
      },
      "source": [
        "liste[5][2]"
      ],
      "execution_count": 12,
      "outputs": [
        {
          "output_type": "execute_result",
          "data": {
            "text/plain": [
              "'istanbul'"
            ]
          },
          "metadata": {
            "tags": []
          },
          "execution_count": 12
        }
      ]
    },
    {
      "cell_type": "code",
      "metadata": {
        "id": "6zjb8vZ4Vh87",
        "colab_type": "code",
        "colab": {
          "base_uri": "https://localhost:8080/",
          "height": 34
        },
        "outputId": "c3e76355-9e1e-49e6-dfb6-28bd99f7ef9e"
      },
      "source": [
        "sehirler[:]      #[:] listenin içinde ne varsa yazdırır."
      ],
      "execution_count": 4,
      "outputs": [
        {
          "output_type": "execute_result",
          "data": {
            "text/plain": [
              "['ankara', 'giresun', 'istanbul']"
            ]
          },
          "metadata": {
            "tags": []
          },
          "execution_count": 4
        }
      ]
    },
    {
      "cell_type": "code",
      "metadata": {
        "id": "W26TYE0-VvVp",
        "colab_type": "code",
        "colab": {
          "base_uri": "https://localhost:8080/",
          "height": 34
        },
        "outputId": "60ae2807-1034-41ee-ae95-65820ee8db95"
      },
      "source": [
        "sehirler[0:3]  #sehirler[0:3] 0 .indisden başla 3 e kadar git.3.indis dahil değildir"
      ],
      "execution_count": 5,
      "outputs": [
        {
          "output_type": "execute_result",
          "data": {
            "text/plain": [
              "['ankara', 'giresun', 'istanbul']"
            ]
          },
          "metadata": {
            "tags": []
          },
          "execution_count": 5
        }
      ]
    },
    {
      "cell_type": "code",
      "metadata": {
        "id": "r21x6VY3V0IQ",
        "colab_type": "code",
        "colab": {
          "base_uri": "https://localhost:8080/",
          "height": 34
        },
        "outputId": "82ae6e2e-5268-46f3-e71a-9319724b98f6"
      },
      "source": [
        "sehirler[1:2]      #sehirler[1:2] 1 .indisden başla 2 e kadar git.2.indis dahil değildir"
      ],
      "execution_count": 6,
      "outputs": [
        {
          "output_type": "execute_result",
          "data": {
            "text/plain": [
              "['giresun']"
            ]
          },
          "metadata": {
            "tags": []
          },
          "execution_count": 6
        }
      ]
    },
    {
      "cell_type": "code",
      "metadata": {
        "id": "8CR6fj2PXml8",
        "colab_type": "code",
        "colab": {
          "base_uri": "https://localhost:8080/",
          "height": 34
        },
        "outputId": "a998dd43-aa20-4cc0-e66b-3d431d6a51e1"
      },
      "source": [
        "sehirler[::-1] #diziyi tersten yazdırma"
      ],
      "execution_count": 10,
      "outputs": [
        {
          "output_type": "execute_result",
          "data": {
            "text/plain": [
              "['istanbul', 'giresun', 'ankara']"
            ]
          },
          "metadata": {
            "tags": []
          },
          "execution_count": 10
        }
      ]
    },
    {
      "cell_type": "code",
      "metadata": {
        "id": "gdGcGwJOXNnb",
        "colab_type": "code",
        "colab": {
          "base_uri": "https://localhost:8080/",
          "height": 34
        },
        "outputId": "eda4970d-50b4-4e00-9cdb-0925e2633fe4"
      },
      "source": [
        "\"www.azizbektas.com\"[0:3] #ilk 3 harfi almak için"
      ],
      "execution_count": 8,
      "outputs": [
        {
          "output_type": "execute_result",
          "data": {
            "text/plain": [
              "'www'"
            ]
          },
          "metadata": {
            "tags": []
          },
          "execution_count": 8
        }
      ]
    },
    {
      "cell_type": "code",
      "metadata": {
        "id": "Fab7mQX2Wr7c",
        "colab_type": "code",
        "colab": {
          "base_uri": "https://localhost:8080/",
          "height": 34
        },
        "outputId": "40df0f72-5424-4d3b-c8bb-6dd45a6ea9be"
      },
      "source": [
        "\"www.azizbektas.com\"[-3:] #son 3 harfi almak için"
      ],
      "execution_count": 7,
      "outputs": [
        {
          "output_type": "execute_result",
          "data": {
            "text/plain": [
              "'com'"
            ]
          },
          "metadata": {
            "tags": []
          },
          "execution_count": 7
        }
      ]
    },
    {
      "cell_type": "code",
      "metadata": {
        "id": "Uq_idZrGXa6G",
        "colab_type": "code",
        "colab": {
          "base_uri": "https://localhost:8080/",
          "height": 34
        },
        "outputId": "3823f4e4-ac71-4b0f-e3f8-e64dd1494ae8"
      },
      "source": [
        "site=\"www.emre.com\"\n",
        "site[0:3]"
      ],
      "execution_count": 9,
      "outputs": [
        {
          "output_type": "execute_result",
          "data": {
            "text/plain": [
              "'www'"
            ]
          },
          "metadata": {
            "tags": []
          },
          "execution_count": 9
        }
      ]
    },
    {
      "cell_type": "code",
      "metadata": {
        "id": "GdGfOBBYX91T",
        "colab_type": "code",
        "colab": {
          "base_uri": "https://localhost:8080/",
          "height": 34
        },
        "outputId": "c705db00-d075-41ae-dedf-ed46f9c4055c"
      },
      "source": [
        "meyveler=[\"armut\",\"elma\",\"üzüm\",\"incir\"]\n",
        "len(meyveler) #len fonkisoyunu listenin uzunluğunu verir"
      ],
      "execution_count": 14,
      "outputs": [
        {
          "output_type": "execute_result",
          "data": {
            "text/plain": [
              "4"
            ]
          },
          "metadata": {
            "tags": []
          },
          "execution_count": 14
        }
      ]
    },
    {
      "cell_type": "code",
      "metadata": {
        "id": "y3lUZ6DPYVt5",
        "colab_type": "code",
        "colab": {
          "base_uri": "https://localhost:8080/",
          "height": 34
        },
        "outputId": "07d43b48-e405-4308-f6cb-53b76b0de8da"
      },
      "source": [
        "meyveler.index(\"elma\") #elmanın indis numarasını döndürür.#len fonk. listenin uzunluğunu verir."
      ],
      "execution_count": 16,
      "outputs": [
        {
          "output_type": "execute_result",
          "data": {
            "text/plain": [
              "1"
            ]
          },
          "metadata": {
            "tags": []
          },
          "execution_count": 16
        }
      ]
    },
    {
      "cell_type": "code",
      "metadata": {
        "id": "Mb1I2jJcZAdx",
        "colab_type": "code",
        "colab": {
          "base_uri": "https://localhost:8080/",
          "height": 163
        },
        "outputId": "a8d76402-50a4-48f6-fc38-0978f77b8b62"
      },
      "source": [
        "meyveler.index(\"muz\")"
      ],
      "execution_count": 17,
      "outputs": [
        {
          "output_type": "error",
          "ename": "ValueError",
          "evalue": "ignored",
          "traceback": [
            "\u001b[0;31m---------------------------------------------------------------------------\u001b[0m",
            "\u001b[0;31mValueError\u001b[0m                                Traceback (most recent call last)",
            "\u001b[0;32m<ipython-input-17-2f56ea9e6fcd>\u001b[0m in \u001b[0;36m<module>\u001b[0;34m()\u001b[0m\n\u001b[0;32m----> 1\u001b[0;31m \u001b[0mmeyveler\u001b[0m\u001b[0;34m.\u001b[0m\u001b[0mindex\u001b[0m\u001b[0;34m(\u001b[0m\u001b[0;34m\"muz\"\u001b[0m\u001b[0;34m)\u001b[0m\u001b[0;34m\u001b[0m\u001b[0;34m\u001b[0m\u001b[0m\n\u001b[0m",
            "\u001b[0;31mValueError\u001b[0m: 'muz' is not in list"
          ]
        }
      ]
    },
    {
      "cell_type": "code",
      "metadata": {
        "id": "inrhOiGgZh_N",
        "colab_type": "code",
        "colab": {
          "base_uri": "https://localhost:8080/",
          "height": 34
        },
        "outputId": "1f5003d2-8e18-458d-be77-f7fd1adbea33"
      },
      "source": [
        "meyveler.index(\"elma\",1,3) #1.ve 3. indis arasında elma nın indisini bul getir."
      ],
      "execution_count": 18,
      "outputs": [
        {
          "output_type": "execute_result",
          "data": {
            "text/plain": [
              "1"
            ]
          },
          "metadata": {
            "tags": []
          },
          "execution_count": 18
        }
      ]
    },
    {
      "cell_type": "code",
      "metadata": {
        "id": "CsNjmZr9Z7xp",
        "colab_type": "code",
        "colab": {
          "base_uri": "https://localhost:8080/",
          "height": 34
        },
        "outputId": "0f310193-1987-4b2b-86b1-9089c3fc9fdd"
      },
      "source": [
        "meyveler.append(\"ceviz\") #listenin sonuna cevizi ekle,append fonk.sona ekler\n",
        "print(meyveler)"
      ],
      "execution_count": 21,
      "outputs": [
        {
          "output_type": "stream",
          "text": [
            "['armut', 'elma', 'üzüm', 'incir', 'karpuz', 'karpuz', 'ceviz']\n"
          ],
          "name": "stdout"
        }
      ]
    },
    {
      "cell_type": "code",
      "metadata": {
        "id": "TsOG8M-nbOtS",
        "colab_type": "code",
        "colab": {
          "base_uri": "https://localhost:8080/",
          "height": 34
        },
        "outputId": "6d9b07e5-e9c1-4b8c-b969-1818f01083d0"
      },
      "source": [
        "meyveler.insert(1,\"muz\") #insert araya ekleme fonk. 1.indise muzu yerleştir.\n",
        "print(meyveler)"
      ],
      "execution_count": 23,
      "outputs": [
        {
          "output_type": "stream",
          "text": [
            "['armut', 'muz', 'elma', 'üzüm', 'incir', 'karpuz', 'karpuz', 'ceviz']\n"
          ],
          "name": "stdout"
        }
      ]
    },
    {
      "cell_type": "code",
      "metadata": {
        "id": "QuoAqloqb_I2",
        "colab_type": "code",
        "colab": {
          "base_uri": "https://localhost:8080/",
          "height": 34
        },
        "outputId": "9173eb14-afde-4d41-d6ec-576c58f1a9c7"
      },
      "source": [
        "meyveler.remove(\"muz\") #muzu listeden sil. remove fonk.listeden silme yapar.\n",
        "print(meyveler)"
      ],
      "execution_count": 25,
      "outputs": [
        {
          "output_type": "stream",
          "text": [
            "['armut', 'elma', 'üzüm', 'incir', 'karpuz', 'karpuz', 'ceviz']\n"
          ],
          "name": "stdout"
        }
      ]
    },
    {
      "cell_type": "code",
      "metadata": {
        "id": "geCDNnTFc4tL",
        "colab_type": "code",
        "colab": {
          "base_uri": "https://localhost:8080/",
          "height": 51
        },
        "outputId": "f9d24ca6-5a26-42d4-e940-7a07bcb65f87"
      },
      "source": [
        "meyveler.pop() #pop fonk. dizinin son elemanını siler.\n",
        "print(meyveler)\n",
        "meyveler.pop(2) #2.indisteki elemanı siler.\n",
        "print(meyveler)"
      ],
      "execution_count": 27,
      "outputs": [
        {
          "output_type": "stream",
          "text": [
            "['armut', 'elma', 'üzüm', 'incir', 'karpuz']\n",
            "['armut', 'elma', 'incir', 'karpuz']\n"
          ],
          "name": "stdout"
        }
      ]
    },
    {
      "cell_type": "code",
      "metadata": {
        "id": "bOpRdrGCdY-S",
        "colab_type": "code",
        "colab": {
          "base_uri": "https://localhost:8080/",
          "height": 34
        },
        "outputId": "723eb6f8-61bd-4216-b260-853d95ee746d"
      },
      "source": [
        "meyveler.clear() #clear fonk.dizinin tüm elemanlarını siler\n",
        "print(meyveler)"
      ],
      "execution_count": 28,
      "outputs": [
        {
          "output_type": "stream",
          "text": [
            "[]\n"
          ],
          "name": "stdout"
        }
      ]
    },
    {
      "cell_type": "code",
      "metadata": {
        "id": "5NcwQKKAdpvd",
        "colab_type": "code",
        "colab": {
          "base_uri": "https://localhost:8080/",
          "height": 197
        },
        "outputId": "4a7a33d6-9697-458a-fbc5-985537d25abc"
      },
      "source": [
        "meyveler=[\"armut\",\"elma\",\"üzüm\",\"incir\"]\n",
        "del meyveler #del fonk. listenin kendisini siler.\n",
        "print(meyveler)"
      ],
      "execution_count": 29,
      "outputs": [
        {
          "output_type": "error",
          "ename": "NameError",
          "evalue": "ignored",
          "traceback": [
            "\u001b[0;31m---------------------------------------------------------------------------\u001b[0m",
            "\u001b[0;31mNameError\u001b[0m                                 Traceback (most recent call last)",
            "\u001b[0;32m<ipython-input-29-d589a55e8461>\u001b[0m in \u001b[0;36m<module>\u001b[0;34m()\u001b[0m\n\u001b[1;32m      1\u001b[0m \u001b[0mmeyveler\u001b[0m\u001b[0;34m=\u001b[0m\u001b[0;34m[\u001b[0m\u001b[0;34m\"armut\"\u001b[0m\u001b[0;34m,\u001b[0m\u001b[0;34m\"elma\"\u001b[0m\u001b[0;34m,\u001b[0m\u001b[0;34m\"üzüm\"\u001b[0m\u001b[0;34m,\u001b[0m\u001b[0;34m\"incir\"\u001b[0m\u001b[0;34m]\u001b[0m\u001b[0;34m\u001b[0m\u001b[0;34m\u001b[0m\u001b[0m\n\u001b[1;32m      2\u001b[0m \u001b[0;32mdel\u001b[0m \u001b[0mmeyveler\u001b[0m \u001b[0;31m#del fonk. listenin kendisini siler.\u001b[0m\u001b[0;34m\u001b[0m\u001b[0;34m\u001b[0m\u001b[0m\n\u001b[0;32m----> 3\u001b[0;31m \u001b[0mprint\u001b[0m\u001b[0;34m(\u001b[0m\u001b[0mmeyveler\u001b[0m\u001b[0;34m)\u001b[0m\u001b[0;34m\u001b[0m\u001b[0;34m\u001b[0m\u001b[0m\n\u001b[0m",
            "\u001b[0;31mNameError\u001b[0m: name 'meyveler' is not defined"
          ]
        }
      ]
    },
    {
      "cell_type": "code",
      "metadata": {
        "id": "N-ulm-ZGeIdQ",
        "colab_type": "code",
        "colab": {
          "base_uri": "https://localhost:8080/",
          "height": 34
        },
        "outputId": "1e154eff-3003-4142-d001-fb4553b0c4eb"
      },
      "source": [
        "meyveler=[\"armut\",\"elma\",\"üzüm\",\"incir\"]\n",
        "meyvetabagi=meyveler.copy() #copy fonk. listeyi başka bir listeye kopyalar.\n",
        "print(meyvetabagi)"
      ],
      "execution_count": 32,
      "outputs": [
        {
          "output_type": "stream",
          "text": [
            "['armut', 'elma', 'üzüm', 'incir']\n"
          ],
          "name": "stdout"
        }
      ]
    },
    {
      "cell_type": "code",
      "metadata": {
        "id": "W8ofDd4lfrUn",
        "colab_type": "code",
        "colab": {
          "base_uri": "https://localhost:8080/",
          "height": 34
        },
        "outputId": "cb6ee53e-2d59-47f8-f77d-8729e4e6b7cc"
      },
      "source": [
        "meyveler=[\"armut\",\"elma\",\"üzüm\",\"incir\",\"armut\"]\n",
        "meyveler.count(\"armut\") #count fonk. bir elemandan listede kaç tane var onu döndürür.\n"
      ],
      "execution_count": 35,
      "outputs": [
        {
          "output_type": "execute_result",
          "data": {
            "text/plain": [
              "2"
            ]
          },
          "metadata": {
            "tags": []
          },
          "execution_count": 35
        }
      ]
    },
    {
      "cell_type": "code",
      "metadata": {
        "id": "y24S0ZY1gMhq",
        "colab_type": "code",
        "colab": {
          "base_uri": "https://localhost:8080/",
          "height": 34
        },
        "outputId": "e95474c5-fce9-49ad-ad79-188436355c5a"
      },
      "source": [
        "meyveler.sort() #sort fonk alfabetik ve numerik sıralama yapar.a-z,0-9\n",
        "print(meyveler)"
      ],
      "execution_count": 37,
      "outputs": [
        {
          "output_type": "stream",
          "text": [
            "['armut', 'armut', 'elma', 'incir', 'üzüm']\n"
          ],
          "name": "stdout"
        }
      ]
    },
    {
      "cell_type": "code",
      "metadata": {
        "id": "xcMJQSxbggyc",
        "colab_type": "code",
        "colab": {
          "base_uri": "https://localhost:8080/",
          "height": 34
        },
        "outputId": "6a1ba04d-be70-4f50-b522-39b6f4270711"
      },
      "source": [
        "meyveler.reverse() # tersten sıralama.z-a,9-0\n",
        "print(meyveler)"
      ],
      "execution_count": 38,
      "outputs": [
        {
          "output_type": "stream",
          "text": [
            "['üzüm', 'incir', 'elma', 'armut', 'armut']\n"
          ],
          "name": "stdout"
        }
      ]
    },
    {
      "cell_type": "code",
      "metadata": {
        "id": "PXVs7vQzg3U8",
        "colab_type": "code",
        "colab": {
          "base_uri": "https://localhost:8080/",
          "height": 34
        },
        "outputId": "40cf3f49-746b-46cd-8dc4-7bc5f2601b88"
      },
      "source": [
        "meyveler.sort(reverse=True) # tersten sıralamayı sort fonk.ile de yapabilriz.bunun için defaultta false olan reverse değerini true yaparız.\n",
        "print(meyveler)"
      ],
      "execution_count": 39,
      "outputs": [
        {
          "output_type": "stream",
          "text": [
            "['üzüm', 'incir', 'elma', 'armut', 'armut']\n"
          ],
          "name": "stdout"
        }
      ]
    }
  ]
}