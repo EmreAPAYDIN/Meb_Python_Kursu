{
  "nbformat": 4,
  "nbformat_minor": 0,
  "metadata": {
    "colab": {
      "name": "tupple.ipynb",
      "provenance": [],
      "collapsed_sections": [],
      "include_colab_link": true
    },
    "kernelspec": {
      "name": "python3",
      "display_name": "Python 3"
    }
  },
  "cells": [
    {
      "cell_type": "markdown",
      "metadata": {
        "id": "view-in-github",
        "colab_type": "text"
      },
      "source": [
        "<a href=\"https://colab.research.google.com/github/EmreAPAYDIN/Meb_Python_Kursu/blob/master/tupple.ipynb\" target=\"_parent\"><img src=\"https://colab.research.google.com/assets/colab-badge.svg\" alt=\"Open In Colab\"/></a>"
      ]
    },
    {
      "cell_type": "code",
      "metadata": {
        "id": "YCha1LoliK_X",
        "colab_type": "code",
        "colab": {}
      },
      "source": [
        ""
      ],
      "execution_count": 0,
      "outputs": []
    },
    {
      "cell_type": "markdown",
      "metadata": {
        "id": "aXX6kjJSiNoc",
        "colab_type": "text"
      },
      "source": [
        "**TUPPLE**\n",
        "\n",
        "Veriye hızlı erişmek istediğimizde tupple kullanmak uygun olur.\n",
        "tupple verileri değiştirilemez.Database den hızlı veri okur.\n",
        "\n",
        "Hafıza kullanımı için listeler daha verimlidir.Hızlı erişim içinse tupple.\n"
      ]
    },
    {
      "cell_type": "code",
      "metadata": {
        "id": "eQwmSNbXifCN",
        "colab_type": "code",
        "colab": {
          "base_uri": "https://localhost:8080/",
          "height": 34
        },
        "outputId": "9d96e3af-0480-4162-9fd7-671253b7e699"
      },
      "source": [
        "meyveler=(\"elma\",\"armut\",\"muz\") #listeden farklı olarak (parantezler ile tanımlanır.)\n",
        "meyveler[2] #indexli bir yapıdır."
      ],
      "execution_count": 4,
      "outputs": [
        {
          "output_type": "execute_result",
          "data": {
            "text/plain": [
              "'muz'"
            ]
          },
          "metadata": {
            "tags": []
          },
          "execution_count": 4
        }
      ]
    },
    {
      "cell_type": "code",
      "metadata": {
        "id": "-rObBvuzi_H1",
        "colab_type": "code",
        "colab": {
          "base_uri": "https://localhost:8080/",
          "height": 34
        },
        "outputId": "6d63d34b-4938-4988-8b6e-c6d937f64df5"
      },
      "source": [
        "meyveler[-1] # son elamanı alır."
      ],
      "execution_count": 5,
      "outputs": [
        {
          "output_type": "execute_result",
          "data": {
            "text/plain": [
              "'muz'"
            ]
          },
          "metadata": {
            "tags": []
          },
          "execution_count": 5
        }
      ]
    },
    {
      "cell_type": "code",
      "metadata": {
        "id": "zpYTIw4Tkvh3",
        "colab_type": "code",
        "colab": {
          "base_uri": "https://localhost:8080/",
          "height": 34
        },
        "outputId": "9a0c3806-a4a6-4f99-aa33-bfa5a7facd47"
      },
      "source": [
        "id(meyveler)"
      ],
      "execution_count": 6,
      "outputs": [
        {
          "output_type": "execute_result",
          "data": {
            "text/plain": [
              "139822625334832"
            ]
          },
          "metadata": {
            "tags": []
          },
          "execution_count": 6
        }
      ]
    },
    {
      "cell_type": "code",
      "metadata": {
        "id": "ndlFpLejk0b5",
        "colab_type": "code",
        "colab": {
          "base_uri": "https://localhost:8080/",
          "height": 34
        },
        "outputId": "176a26b9-dd8f-4e88-8a62-8c351cf68d24"
      },
      "source": [
        "meyveler=(\"elma\",\"armut\",\"muz\",\"kiraz\")\n",
        "id(meyveler) #tuple hafıza da boş bulduğu yere yazılır.Ram yönetimi bu anlamda kötüdür."
      ],
      "execution_count": 7,
      "outputs": [
        {
          "output_type": "execute_result",
          "data": {
            "text/plain": [
              "139822624715624"
            ]
          },
          "metadata": {
            "tags": []
          },
          "execution_count": 7
        }
      ]
    },
    {
      "cell_type": "code",
      "metadata": {
        "id": "oGhK-1VSlJ7v",
        "colab_type": "code",
        "colab": {
          "base_uri": "https://localhost:8080/",
          "height": 34
        },
        "outputId": "79dced29-8472-4eb7-c353-6fe1c3a70e86"
      },
      "source": [
        "sebzeler=[\"pırasa\",\"lahana\",\"pancar\"] #liste\n",
        "id(sebzeler)"
      ],
      "execution_count": 10,
      "outputs": [
        {
          "output_type": "execute_result",
          "data": {
            "text/plain": [
              "139822624499656"
            ]
          },
          "metadata": {
            "tags": []
          },
          "execution_count": 10
        }
      ]
    },
    {
      "cell_type": "code",
      "metadata": {
        "id": "fFM2DqVSlbfS",
        "colab_type": "code",
        "colab": {
          "base_uri": "https://localhost:8080/",
          "height": 34
        },
        "outputId": "8b4a2eca-819f-4510-8db6-bf993e2e03b5"
      },
      "source": [
        "sebzeler=[\"pırasa\",\"lahana\",\"pancar\",\"hıyar\"] \n",
        "id(sebzeler)"
      ],
      "execution_count": 11,
      "outputs": [
        {
          "output_type": "execute_result",
          "data": {
            "text/plain": [
              "139822624936584"
            ]
          },
          "metadata": {
            "tags": []
          },
          "execution_count": 11
        }
      ]
    }
  ]
}